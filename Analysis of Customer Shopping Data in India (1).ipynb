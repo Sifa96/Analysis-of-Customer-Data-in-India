{
 "cells": [
  {
   "cell_type": "markdown",
   "metadata": {},
   "source": [
    "# Analysis of Customer Shopping Data in India\n",
    "\n",
    "## Purpose\n",
    "\n",
    "The purpose of this notebook is to draw useful conclusions from a dataset obtained in India about customer shopping data. Businesses can adopt these conclusions in their marketing strategies, when comparing which group of people to target for a certain product. This is for my Jenga School Foundations of Data Science Project. I will use the following data that I obtained from Kaggle:\n",
    "1. Customer's Age\n",
    "2. Customer's Gender\n",
    "3. Customer's City\n",
    "4. Customer's Annual Income\n",
    "5. Customer's Credit Score \n",
    "6. Customer's Spending Score\n",
    "sifa\n",
    "kinoti\n"
   ]
  },
  {
   "cell_type": "code",
   "execution_count": 10,
   "metadata": {},
   "outputs": [
    {
     "data": {
      "text/html": [
       "<div>\n",
       "<style scoped>\n",
       "    .dataframe tbody tr th:only-of-type {\n",
       "        vertical-align: middle;\n",
       "    }\n",
       "\n",
       "    .dataframe tbody tr th {\n",
       "        vertical-align: top;\n",
       "    }\n",
       "\n",
       "    .dataframe thead th {\n",
       "        text-align: right;\n",
       "    }\n",
       "</style>\n",
       "<table border=\"1\" class=\"dataframe\">\n",
       "  <thead>\n",
       "    <tr style=\"text-align: right;\">\n",
       "      <th></th>\n",
       "      <th>CustomerID</th>\n",
       "      <th>CustomerGender</th>\n",
       "      <th>CustomerAge</th>\n",
       "      <th>CustomerCity</th>\n",
       "      <th>AnnualIncome</th>\n",
       "      <th>CreditScore</th>\n",
       "      <th>SpendingScore</th>\n",
       "      <th>CustomerCityID</th>\n",
       "    </tr>\n",
       "  </thead>\n",
       "  <tbody>\n",
       "    <tr>\n",
       "      <th>0</th>\n",
       "      <td>1001</td>\n",
       "      <td>Male</td>\n",
       "      <td>49</td>\n",
       "      <td>Bengaluru</td>\n",
       "      <td>527547.58850</td>\n",
       "      <td>653</td>\n",
       "      <td>78</td>\n",
       "      <td>1</td>\n",
       "    </tr>\n",
       "    <tr>\n",
       "      <th>1</th>\n",
       "      <td>1002</td>\n",
       "      <td>Male</td>\n",
       "      <td>59</td>\n",
       "      <td>Bengaluru</td>\n",
       "      <td>207143.19760</td>\n",
       "      <td>630</td>\n",
       "      <td>63</td>\n",
       "      <td>1</td>\n",
       "    </tr>\n",
       "    <tr>\n",
       "      <th>2</th>\n",
       "      <td>1003</td>\n",
       "      <td>Female</td>\n",
       "      <td>54</td>\n",
       "      <td>Delhi</td>\n",
       "      <td>164423.84570</td>\n",
       "      <td>555</td>\n",
       "      <td>69</td>\n",
       "      <td>4</td>\n",
       "    </tr>\n",
       "    <tr>\n",
       "      <th>3</th>\n",
       "      <td>1004</td>\n",
       "      <td>Female</td>\n",
       "      <td>42</td>\n",
       "      <td>Bengaluru</td>\n",
       "      <td>56220.36443</td>\n",
       "      <td>699</td>\n",
       "      <td>30</td>\n",
       "      <td>1</td>\n",
       "    </tr>\n",
       "    <tr>\n",
       "      <th>4</th>\n",
       "      <td>1005</td>\n",
       "      <td>Female</td>\n",
       "      <td>30</td>\n",
       "      <td>Bengaluru</td>\n",
       "      <td>256194.36190</td>\n",
       "      <td>793</td>\n",
       "      <td>6</td>\n",
       "      <td>1</td>\n",
       "    </tr>\n",
       "    <tr>\n",
       "      <th>...</th>\n",
       "      <td>...</td>\n",
       "      <td>...</td>\n",
       "      <td>...</td>\n",
       "      <td>...</td>\n",
       "      <td>...</td>\n",
       "      <td>...</td>\n",
       "      <td>...</td>\n",
       "      <td>...</td>\n",
       "    </tr>\n",
       "    <tr>\n",
       "      <th>195</th>\n",
       "      <td>1196</td>\n",
       "      <td>Female</td>\n",
       "      <td>54</td>\n",
       "      <td>Delhi</td>\n",
       "      <td>317466.42070</td>\n",
       "      <td>601</td>\n",
       "      <td>52</td>\n",
       "      <td>4</td>\n",
       "    </tr>\n",
       "    <tr>\n",
       "      <th>196</th>\n",
       "      <td>1197</td>\n",
       "      <td>Female</td>\n",
       "      <td>20</td>\n",
       "      <td>Bengaluru</td>\n",
       "      <td>323305.50020</td>\n",
       "      <td>554</td>\n",
       "      <td>58</td>\n",
       "      <td>1</td>\n",
       "    </tr>\n",
       "    <tr>\n",
       "      <th>197</th>\n",
       "      <td>1198</td>\n",
       "      <td>Male</td>\n",
       "      <td>44</td>\n",
       "      <td>Chennai</td>\n",
       "      <td>109058.54430</td>\n",
       "      <td>844</td>\n",
       "      <td>36</td>\n",
       "      <td>2</td>\n",
       "    </tr>\n",
       "    <tr>\n",
       "      <th>198</th>\n",
       "      <td>1199</td>\n",
       "      <td>Male</td>\n",
       "      <td>28</td>\n",
       "      <td>Delhi</td>\n",
       "      <td>160116.89300</td>\n",
       "      <td>837</td>\n",
       "      <td>24</td>\n",
       "      <td>4</td>\n",
       "    </tr>\n",
       "    <tr>\n",
       "      <th>199</th>\n",
       "      <td>1200</td>\n",
       "      <td>Male</td>\n",
       "      <td>41</td>\n",
       "      <td>Chennai</td>\n",
       "      <td>280081.39010</td>\n",
       "      <td>789</td>\n",
       "      <td>31</td>\n",
       "      <td>2</td>\n",
       "    </tr>\n",
       "  </tbody>\n",
       "</table>\n",
       "<p>200 rows × 8 columns</p>\n",
       "</div>"
      ],
      "text/plain": [
       "     CustomerID CustomerGender  CustomerAge CustomerCity  AnnualIncome  \\\n",
       "0          1001           Male           49    Bengaluru  527547.58850   \n",
       "1          1002           Male           59    Bengaluru  207143.19760   \n",
       "2          1003         Female           54        Delhi  164423.84570   \n",
       "3          1004         Female           42    Bengaluru   56220.36443   \n",
       "4          1005         Female           30    Bengaluru  256194.36190   \n",
       "..          ...            ...          ...          ...           ...   \n",
       "195        1196         Female           54        Delhi  317466.42070   \n",
       "196        1197         Female           20    Bengaluru  323305.50020   \n",
       "197        1198           Male           44      Chennai  109058.54430   \n",
       "198        1199           Male           28        Delhi  160116.89300   \n",
       "199        1200           Male           41      Chennai  280081.39010   \n",
       "\n",
       "     CreditScore  SpendingScore  CustomerCityID  \n",
       "0            653             78               1  \n",
       "1            630             63               1  \n",
       "2            555             69               4  \n",
       "3            699             30               1  \n",
       "4            793              6               1  \n",
       "..           ...            ...             ...  \n",
       "195          601             52               4  \n",
       "196          554             58               1  \n",
       "197          844             36               2  \n",
       "198          837             24               4  \n",
       "199          789             31               2  \n",
       "\n",
       "[200 rows x 8 columns]"
      ]
     },
     "execution_count": 10,
     "metadata": {},
     "output_type": "execute_result"
    }
   ],
   "source": [
    "import matplotlib.pyplot as plt\n",
    "import numpy as np\n",
    "import pandas as pd\n",
    "file = pd.read_csv(\"Shopping_CustomerData.csv\")\n",
    "file"
   ]
  },
  {
   "cell_type": "markdown",
   "metadata": {},
   "source": [
    "### Data Processing \n",
    "\n",
    "In this space we are going to process our data so that we are left with usable data. We are going to delete the columns containing the Customer ID and CustomerCityID."
   ]
  },
  {
   "cell_type": "code",
   "execution_count": 11,
   "metadata": {},
   "outputs": [],
   "source": [
    "#delete customer Id\n",
    "file = file.drop(\"CustomerID\", axis = 1)\n",
    "#delete CustomerCityId\n",
    "file = file.drop(\"CustomerCityID\", axis = 1)"
   ]
  },
  {
   "cell_type": "code",
   "execution_count": 12,
   "metadata": {},
   "outputs": [
    {
     "data": {
      "text/html": [
       "<div>\n",
       "<style scoped>\n",
       "    .dataframe tbody tr th:only-of-type {\n",
       "        vertical-align: middle;\n",
       "    }\n",
       "\n",
       "    .dataframe tbody tr th {\n",
       "        vertical-align: top;\n",
       "    }\n",
       "\n",
       "    .dataframe thead th {\n",
       "        text-align: right;\n",
       "    }\n",
       "</style>\n",
       "<table border=\"1\" class=\"dataframe\">\n",
       "  <thead>\n",
       "    <tr style=\"text-align: right;\">\n",
       "      <th></th>\n",
       "      <th>CustomerGender</th>\n",
       "      <th>CustomerAge</th>\n",
       "      <th>CustomerCity</th>\n",
       "      <th>AnnualIncome</th>\n",
       "      <th>CreditScore</th>\n",
       "      <th>SpendingScore</th>\n",
       "    </tr>\n",
       "  </thead>\n",
       "  <tbody>\n",
       "    <tr>\n",
       "      <th>0</th>\n",
       "      <td>Male</td>\n",
       "      <td>49</td>\n",
       "      <td>Bengaluru</td>\n",
       "      <td>527547.58850</td>\n",
       "      <td>653</td>\n",
       "      <td>78</td>\n",
       "    </tr>\n",
       "    <tr>\n",
       "      <th>1</th>\n",
       "      <td>Male</td>\n",
       "      <td>59</td>\n",
       "      <td>Bengaluru</td>\n",
       "      <td>207143.19760</td>\n",
       "      <td>630</td>\n",
       "      <td>63</td>\n",
       "    </tr>\n",
       "    <tr>\n",
       "      <th>2</th>\n",
       "      <td>Female</td>\n",
       "      <td>54</td>\n",
       "      <td>Delhi</td>\n",
       "      <td>164423.84570</td>\n",
       "      <td>555</td>\n",
       "      <td>69</td>\n",
       "    </tr>\n",
       "    <tr>\n",
       "      <th>3</th>\n",
       "      <td>Female</td>\n",
       "      <td>42</td>\n",
       "      <td>Bengaluru</td>\n",
       "      <td>56220.36443</td>\n",
       "      <td>699</td>\n",
       "      <td>30</td>\n",
       "    </tr>\n",
       "    <tr>\n",
       "      <th>4</th>\n",
       "      <td>Female</td>\n",
       "      <td>30</td>\n",
       "      <td>Bengaluru</td>\n",
       "      <td>256194.36190</td>\n",
       "      <td>793</td>\n",
       "      <td>6</td>\n",
       "    </tr>\n",
       "    <tr>\n",
       "      <th>...</th>\n",
       "      <td>...</td>\n",
       "      <td>...</td>\n",
       "      <td>...</td>\n",
       "      <td>...</td>\n",
       "      <td>...</td>\n",
       "      <td>...</td>\n",
       "    </tr>\n",
       "    <tr>\n",
       "      <th>195</th>\n",
       "      <td>Female</td>\n",
       "      <td>54</td>\n",
       "      <td>Delhi</td>\n",
       "      <td>317466.42070</td>\n",
       "      <td>601</td>\n",
       "      <td>52</td>\n",
       "    </tr>\n",
       "    <tr>\n",
       "      <th>196</th>\n",
       "      <td>Female</td>\n",
       "      <td>20</td>\n",
       "      <td>Bengaluru</td>\n",
       "      <td>323305.50020</td>\n",
       "      <td>554</td>\n",
       "      <td>58</td>\n",
       "    </tr>\n",
       "    <tr>\n",
       "      <th>197</th>\n",
       "      <td>Male</td>\n",
       "      <td>44</td>\n",
       "      <td>Chennai</td>\n",
       "      <td>109058.54430</td>\n",
       "      <td>844</td>\n",
       "      <td>36</td>\n",
       "    </tr>\n",
       "    <tr>\n",
       "      <th>198</th>\n",
       "      <td>Male</td>\n",
       "      <td>28</td>\n",
       "      <td>Delhi</td>\n",
       "      <td>160116.89300</td>\n",
       "      <td>837</td>\n",
       "      <td>24</td>\n",
       "    </tr>\n",
       "    <tr>\n",
       "      <th>199</th>\n",
       "      <td>Male</td>\n",
       "      <td>41</td>\n",
       "      <td>Chennai</td>\n",
       "      <td>280081.39010</td>\n",
       "      <td>789</td>\n",
       "      <td>31</td>\n",
       "    </tr>\n",
       "  </tbody>\n",
       "</table>\n",
       "<p>200 rows × 6 columns</p>\n",
       "</div>"
      ],
      "text/plain": [
       "    CustomerGender  CustomerAge CustomerCity  AnnualIncome  CreditScore  \\\n",
       "0             Male           49    Bengaluru  527547.58850          653   \n",
       "1             Male           59    Bengaluru  207143.19760          630   \n",
       "2           Female           54        Delhi  164423.84570          555   \n",
       "3           Female           42    Bengaluru   56220.36443          699   \n",
       "4           Female           30    Bengaluru  256194.36190          793   \n",
       "..             ...          ...          ...           ...          ...   \n",
       "195         Female           54        Delhi  317466.42070          601   \n",
       "196         Female           20    Bengaluru  323305.50020          554   \n",
       "197           Male           44      Chennai  109058.54430          844   \n",
       "198           Male           28        Delhi  160116.89300          837   \n",
       "199           Male           41      Chennai  280081.39010          789   \n",
       "\n",
       "     SpendingScore  \n",
       "0               78  \n",
       "1               63  \n",
       "2               69  \n",
       "3               30  \n",
       "4                6  \n",
       "..             ...  \n",
       "195             52  \n",
       "196             58  \n",
       "197             36  \n",
       "198             24  \n",
       "199             31  \n",
       "\n",
       "[200 rows x 6 columns]"
      ]
     },
     "execution_count": 12,
     "metadata": {},
     "output_type": "execute_result"
    }
   ],
   "source": [
    "#display new dataset\n",
    "file"
   ]
  },
  {
   "cell_type": "markdown",
   "metadata": {},
   "source": [
    "### Data Exploration\n",
    "\n",
    "According to the dataset we have, we are going to lightly analyse it. we will find out the average age of the study, the percentage of females and mles, how often the cities are repeated, the average, minimum and maximum incomes, spending scores and credit scores."
   ]
  },
  {
   "cell_type": "code",
   "execution_count": 47,
   "metadata": {},
   "outputs": [
    {
     "name": "stdout",
     "output_type": "stream",
     "text": [
      "count    200.000000\n",
      "mean      45.520000\n",
      "std       16.113592\n",
      "min       18.000000\n",
      "25%       31.750000\n",
      "50%       46.500000\n",
      "75%       59.000000\n",
      "max       75.000000\n",
      "Name: CustomerAge, dtype: float64\n",
      "count       200.000000\n",
      "mean     285143.931646\n",
      "std      169229.187619\n",
      "min        2577.057456\n",
      "25%      153227.340950\n",
      "50%      263418.505550\n",
      "75%      384857.116200\n",
      "max      695407.091700\n",
      "Name: AnnualIncome, dtype: float64\n",
      "count    200.00000\n",
      "mean      50.70500\n",
      "std       28.72269\n",
      "min        2.00000\n",
      "25%       27.75000\n",
      "50%       48.00000\n",
      "75%       77.00000\n",
      "max      100.00000\n",
      "Name: SpendingScore, dtype: float64\n"
     ]
    },
    {
     "data": {
      "text/plain": [
       "count    200.000000\n",
       "mean     719.975000\n",
       "std      104.578236\n",
       "min      551.000000\n",
       "25%      628.250000\n",
       "50%      715.000000\n",
       "75%      806.250000\n",
       "max      897.000000\n",
       "Name: CreditScore, dtype: float64"
      ]
     },
     "execution_count": 47,
     "metadata": {},
     "output_type": "execute_result"
    }
   ],
   "source": [
    "#age statistics\n",
    "stats1 = file[\"CustomerAge\"].describe()\n",
    "print(stats1)\n",
    "\n",
    "#percentage of females\n",
    "\n",
    "#percentage of males\n",
    "\n",
    "#mode of cities\n",
    "\n",
    "#income statistics\n",
    "stats2 = file[\"AnnualIncome\"].describe()\n",
    "'\\n'\n",
    "print(stats2)\n",
    "\n",
    "# spending score statistics\n",
    "stats3 = file[\"SpendingScore\"].describe()\n",
    "print(stats3)\n",
    "\n",
    "# credit score statistics\n",
    "stats4 = file[\"CreditScore\"].describe()\n",
    "stats4"
   ]
  },
  {
   "cell_type": "markdown",
   "metadata": {},
   "source": [
    "### Analysis of Age vs Annual Income\n",
    "\n",
    "In this space, I would like to compare the ages from the data given and the Annual Income corresponding to the respective age. This would tell us which age bracket has the highest income, lowest income and the  average income of the ages. This would in turn help us understand what each age group can afford to buy."
   ]
  },
  {
   "cell_type": "code",
   "execution_count": 37,
   "metadata": {},
   "outputs": [],
   "source": [
    "#plot a graph of age and average income\n",
    "#find out average income for each age\n",
    "\n",
    "#plot line graph for income vs age\n",
    "plt.plot(x, y)"
   ]
  },
  {
   "cell_type": "markdown",
   "metadata": {},
   "source": [
    "### Analysis of Age vs Credit Score\n",
    "\n",
    "In this space, I would like to compare the ages from the data given and the Credit Score corresponding to the respective age. This would help us understand and predict which age bracket is most likely to repay their credit, and therefore which age brackets can be allowed to buy goods on credit."
   ]
  },
  {
   "cell_type": "code",
   "execution_count": null,
   "metadata": {},
   "outputs": [],
   "source": [
    "#plot a graph of age vs average credit score \n",
    "#find out average credit score for each age\n",
    "#plot line graph for credit score vs age"
   ]
  },
  {
   "cell_type": "markdown",
   "metadata": {},
   "source": [
    "### Analysis of Age vs Spending Score\n",
    "\n",
    "In this space, I would like to compare the ages from the data given and the Spending Score corresponding to the respective age. A spending score is a score out of 100 given by the mall authoritiees based on the money spent and the behavior of the customer, according to Towards Data Science (https://towardsdatascience.com/mall-customers-segmentation-using-machine-learning-274ddf5575d5#:~:text=Spending%20Score%3A%20It%20is%20the,the%20behavior%20of%20the%20customer). This will help us understand how each age group spends their money, who is most likely to buy a product and each age group's attitude towards spending money. We can use this information to target certain customers for a certain product."
   ]
  },
  {
   "cell_type": "code",
   "execution_count": null,
   "metadata": {},
   "outputs": [],
   "source": [
    "#plot a graph of age vs avg spending score\n",
    "#find out average spending score for each age\n",
    "#plot line graph for spending score vs age"
   ]
  },
  {
   "cell_type": "markdown",
   "metadata": {},
   "source": [
    "### Analysis of Gender vs Annual Income\n",
    "\n",
    "In this space I would like to compare the relationship between gender and annual income in India. this would help us understand which gender earns more money."
   ]
  },
  {
   "cell_type": "code",
   "execution_count": 55,
   "metadata": {},
   "outputs": [
    {
     "name": "stdout",
     "output_type": "stream",
     "text": [
      "The mean female income is  294816.7149007143\n",
      "The mean male income is  272833.1165955455\n"
     ]
    },
    {
     "data": {
      "image/png": "[encoded data removed]",
      "text/plain": [
       "<Figure size 432x288 with 1 Axes>"
      ]
     },
     "metadata": {
      "needs_background": "light"
     },
     "output_type": "display_data"
    }
   ],
   "source": [
    "#get average income for each gender and compare in a bar graph\n",
    "female = file.loc[file[\"CustomerGender\"]==\"Female\"]\n",
    "femaleIncome = female[\"AnnualIncome\"].mean()\n",
    "print(\"The mean female income is \",femaleIncome)\n",
    "\n",
    "male = file.loc[file[\"CustomerGender\"]==\"Male\"]\n",
    "maleIncome = male[\"AnnualIncome\"].mean()\n",
    "print(\"The mean male income is \",maleIncome)\n",
    "\n",
    "GenderIncome = {\"Female\": [femaleIncome],\n",
    "                \"Male\": [maleIncome]\n",
    "               }\n",
    "GenderIncome = pd.DataFrame(GenderIncome, columns = [\"Female\", \"Male\"])\n",
    "GenderIncome\n",
    "#make the bar graph\n",
    "genderi = [\"Female\", \"Male\"]\n",
    "income = [294816, 272833]\n",
    "plt.bar(genderi, income)\n",
    "plt.xlabel(\"Gender\")\n",
    "plt.ylabel(\"Average Annual income\")\n",
    "plt.title(\"Average Annual Income for different genders in India\")\n",
    "plt.show()\n"
   ]
  },
  {
   "cell_type": "markdown",
   "metadata": {},
   "source": [
    "### Analysis of Gender vs Credit Score\n",
    "\n",
    "In this space I would like to compare the relationship between gender and Credit Score in India. This wold help us understand which gender is most likely to pay off their credit, and is most likely to buy on credit."
   ]
  },
  {
   "cell_type": "code",
   "execution_count": 57,
   "metadata": {},
   "outputs": [
    {
     "name": "stdout",
     "output_type": "stream",
     "text": [
      "The average Credit Score for women is  724.1785714285714\n",
      "The average Credit Score for men is  714.625\n"
     ]
    },
    {
     "data": {
      "image/png": "[encoded data removed]",
      "text/plain": [
       "<Figure size 432x288 with 1 Axes>"
      ]
     },
     "metadata": {
      "needs_background": "light"
     },
     "output_type": "display_data"
    }
   ],
   "source": [
    "#get average credit score for each gender and compare in a bar graph\n",
    "female = file.loc[file[\"CustomerGender\"] == \"Female\"]\n",
    "femalecred = female[\"CreditScore\"].mean()\n",
    "print(\"The average Credit Score for women is \", femalecred)\n",
    "\n",
    "male = file.loc[file[\"CustomerGender\"] == \"Male\"]\n",
    "malecred = male[\"CreditScore\"].mean()\n",
    "print(\"The average Credit Score for men is \", malecred)\n",
    "\n",
    "GenderCred = {\"Female\": [femalecred],\n",
    "             \"Male\": [malecred]\n",
    "             }\n",
    "GenderCred = pd.DataFrame(GenderCred, columns = [\"Female\", \"Male\"])\n",
    "GenderCred\n",
    "\n",
    "genderc = [\"Female\", \"Male\"]\n",
    "credit = [724, 714]\n",
    "plt.bar(genderc, credit)\n",
    "plt.xlabel(\"Gender\")\n",
    "plt.ylabel(\"Average Credit Score\")\n",
    "plt.title(\"Average Credit Score for different genders in India\")\n",
    "plt.show()"
   ]
  },
  {
   "cell_type": "markdown",
   "metadata": {},
   "source": [
    "### Analysis of Gender vs Spending Score\n",
    "\n",
    "In this space I would like to compare the relationship between gender and spending score in India. this will help us understand each gender's attitudes towards spending money, and how often they spend their money. this is useful when targeting customers for a certian product or service."
   ]
  },
  {
   "cell_type": "code",
   "execution_count": 71,
   "metadata": {},
   "outputs": [
    {
     "name": "stdout",
     "output_type": "stream",
     "text": [
      "The average Spending Score for women is  52.955357142857146\n",
      "The average Spending Score for men is  47.84090909090909\n"
     ]
    },
    {
     "data": {
      "image/png": "[encoded data removed]",
      "text/plain": [
       "<Figure size 432x288 with 1 Axes>"
      ]
     },
     "metadata": {
      "needs_background": "light"
     },
     "output_type": "display_data"
    }
   ],
   "source": [
    "#get average spending score for each gender and compare in a bar graph\n",
    "female = file.loc[file[\"CustomerGender\"] == \"Female\"]\n",
    "femalespend = female[\"SpendingScore\"].mean()\n",
    "print(\"The average Spending Score for women is \", femalespend)\n",
    "\n",
    "male = file.loc[file[\"CustomerGender\"] == \"Male\"]\n",
    "malespend = male[\"SpendingScore\"].mean()\n",
    "print(\"The average Spending Score for men is \", malespend)\n",
    "\n",
    "GenderSpend = {\"Female\": [femalespend],\n",
    "             \"Male\": [malespend]\n",
    "             }\n",
    "GenderSpend = pd.DataFrame(GenderSpend, columns = [\"Female\", \"Male\"])\n",
    "GenderSpend\n",
    "\n",
    "genders = [\"Female\", \"Male\"]\n",
    "spend = [52, 47]\n",
    "plt.bar(genders, spend)\n",
    "plt.show()"
   ]
  },
  {
   "cell_type": "markdown",
   "metadata": {},
   "source": [
    "### Analysis of City vs Annual Income\n",
    "\n",
    "In this space I would like to compare the Annual income in the respecitve cities in India. this would help us identify the cities that earn more, the mean income in the cities, the mean income in India. This is helpful when getting to understand what members of a city are most likely to afford."
   ]
  },
  {
   "cell_type": "code",
   "execution_count": 65,
   "metadata": {},
   "outputs": [
    {
     "name": "stdout",
     "output_type": "stream",
     "text": [
      "The average Annual Income for Chennai is  308646.1849836889\n",
      "The average Annual Income for Delhi is  261862.79349356753\n",
      "The average Annual Income for Bengaluru is  277244.36195819994\n",
      "The average Annual Income for Kolkata is  278743.16287517245\n",
      "The average Annual Income for Mumbai is  295000.3801146154\n"
     ]
    },
    {
     "ename": "TypeError",
     "evalue": "'str' object is not callable",
     "output_type": "error",
     "traceback": [
      "\u001b[1;31m---------------------------------------------------------------------------\u001b[0m",
      "\u001b[1;31mTypeError\u001b[0m                                 Traceback (most recent call last)",
      "\u001b[1;32m<ipython-input-65-6bfdb20a88e1>\u001b[0m in \u001b[0;36m<module>\u001b[1;34m\u001b[0m\n\u001b[0;32m     32\u001b[0m \u001b[0mincome\u001b[0m \u001b[1;33m=\u001b[0m \u001b[1;33m[\u001b[0m\u001b[1;36m308646\u001b[0m\u001b[1;33m,\u001b[0m\u001b[1;36m261862\u001b[0m\u001b[1;33m,\u001b[0m \u001b[1;36m277244\u001b[0m\u001b[1;33m,\u001b[0m\u001b[1;36m278743\u001b[0m\u001b[1;33m,\u001b[0m \u001b[1;36m295000\u001b[0m\u001b[1;33m]\u001b[0m\u001b[1;33m\u001b[0m\u001b[1;33m\u001b[0m\u001b[0m\n\u001b[0;32m     33\u001b[0m \u001b[0mplt\u001b[0m\u001b[1;33m.\u001b[0m\u001b[0mbar\u001b[0m\u001b[1;33m(\u001b[0m\u001b[0mcityi\u001b[0m\u001b[1;33m,\u001b[0m \u001b[0mincome\u001b[0m\u001b[1;33m)\u001b[0m\u001b[1;33m\u001b[0m\u001b[1;33m\u001b[0m\u001b[0m\n\u001b[1;32m---> 34\u001b[1;33m \u001b[0mplt\u001b[0m\u001b[1;33m.\u001b[0m\u001b[0mxlabel\u001b[0m\u001b[1;33m(\u001b[0m\u001b[1;34m\"Cities\"\u001b[0m\u001b[1;33m)\u001b[0m\u001b[1;33m\u001b[0m\u001b[1;33m\u001b[0m\u001b[0m\n\u001b[0m\u001b[0;32m     35\u001b[0m \u001b[0mplt\u001b[0m\u001b[1;33m.\u001b[0m\u001b[0mylabel\u001b[0m\u001b[1;33m(\u001b[0m\u001b[1;34m\"Average Annual Income\"\u001b[0m\u001b[1;33m)\u001b[0m\u001b[1;33m\u001b[0m\u001b[1;33m\u001b[0m\u001b[0m\n\u001b[0;32m     36\u001b[0m \u001b[0mplt\u001b[0m\u001b[1;33m.\u001b[0m\u001b[0mtitle\u001b[0m\u001b[1;33m(\u001b[0m\u001b[1;34m\"Average Incomes of Cities\"\u001b[0m\u001b[1;33m)\u001b[0m\u001b[1;33m\u001b[0m\u001b[1;33m\u001b[0m\u001b[0m\n",
      "\u001b[1;31mTypeError\u001b[0m: 'str' object is not callable"
     ]
    },
    {
     "data": {
      "image/png": "[encoded data removed]",
      "text/plain": [
       "<Figure size 432x288 with 1 Axes>"
      ]
     },
     "metadata": {
      "needs_background": "light"
     },
     "output_type": "display_data"
    }
   ],
   "source": [
    "#get average income of each city and compare the cities in a bar graph\n",
    "Chennai = file.loc[file[\"CustomerCity\"] == \"Chennai\"]\n",
    "chennin = Chennai[\"AnnualIncome\"].mean()\n",
    "print(\"The average Annual Income for Chennai is \", chennin)\n",
    "\n",
    "Delhi = file.loc[file[\"CustomerCity\"] == \"Delhi\"]\n",
    "delhin = Delhi[\"AnnualIncome\"].mean()\n",
    "print(\"The average Annual Income for Delhi is \", delhin)\n",
    "\n",
    "Bengaluru = file.loc[file[\"CustomerCity\"] == \"Bengaluru\"]\n",
    "bengain = Bengaluru[\"AnnualIncome\"].mean()\n",
    "print(\"The average Annual Income for Bengaluru is \", bengain)\n",
    "\n",
    "Kolkata = file.loc[file[\"CustomerCity\"] == \"Kolkata\"]\n",
    "kolin = Kolkata[\"AnnualIncome\"].mean()\n",
    "print(\"The average Annual Income for Kolkata is \", kolin)\n",
    "\n",
    "Mumbai = file.loc[file[\"CustomerCity\"] == \"Mumbai\"]\n",
    "mumbin = Mumbai[\"AnnualIncome\"].mean()\n",
    "print(\"The average Annual Income for Mumbai is \", mumbin)\n",
    "\n",
    "CityIncome = {\"Chennai\": [chennin],\n",
    "             \"Delhi\": [delhin],\n",
    "              \"Bengaluru\": [bengain],\n",
    "              \"Kolkata\": [kolin],\n",
    "              \"Mumbai\": [mumbin]\n",
    "             }\n",
    "CityIncome = pd.DataFrame(CityIncome, columns = [\"Chennai\", \"Delhi\", \"Bengaluru\", \"Kolkata\", \"Mumbai\"])\n",
    "CityIncome\n",
    "\n",
    "cityi = [\"Chennai\", \"Delhi\", \"Bengaluru\", \"Kolkata\", \"Mumbai\"]\n",
    "income = [308646,261862, 277244,278743, 295000]\n",
    "plt.bar(cityi, income)\n",
    "plt.xlabel(\"Cities\")\n",
    "plt.ylabel(\"Average Annual Income\")\n",
    "plt.title(\"Average Incomes of Cities\")\n",
    "plt.show()"
   ]
  },
  {
   "cell_type": "markdown",
   "metadata": {},
   "source": [
    "### Analysis of City vs Credit Score\n",
    "\n",
    "In this space I would like to compare the Credit Score in the respecitve cities in India. This will help us identify the cities with the best credit score."
   ]
  },
  {
   "cell_type": "code",
   "execution_count": 73,
   "metadata": {},
   "outputs": [
    {
     "name": "stdout",
     "output_type": "stream",
     "text": [
      "The average Credit Score for Chennai is  724.3555555555556\n",
      "The average Credit Score for Delhi is  719.9459459459459\n",
      "The average Credit Score for Bengaluru is  703.88\n",
      "The average Credit Score for Kolkata is  746.6206896551724\n",
      "The average Credit Score for Mumbai is  715.7692307692307\n"
     ]
    },
    {
     "ename": "TypeError",
     "evalue": "'str' object is not callable",
     "output_type": "error",
     "traceback": [
      "\u001b[1;31m---------------------------------------------------------------------------\u001b[0m",
      "\u001b[1;31mTypeError\u001b[0m                                 Traceback (most recent call last)",
      "\u001b[1;32m<ipython-input-73-5e48d60ed3c4>\u001b[0m in \u001b[0;36m<module>\u001b[1;34m\u001b[0m\n\u001b[0;32m     32\u001b[0m \u001b[0mcredits\u001b[0m \u001b[1;33m=\u001b[0m \u001b[1;33m[\u001b[0m\u001b[1;36m724\u001b[0m\u001b[1;33m,\u001b[0m\u001b[1;36m719\u001b[0m\u001b[1;33m,\u001b[0m \u001b[1;36m703\u001b[0m\u001b[1;33m,\u001b[0m\u001b[1;36m746\u001b[0m\u001b[1;33m,\u001b[0m \u001b[1;36m715\u001b[0m\u001b[1;33m]\u001b[0m\u001b[1;33m\u001b[0m\u001b[1;33m\u001b[0m\u001b[0m\n\u001b[0;32m     33\u001b[0m \u001b[0mplt\u001b[0m\u001b[1;33m.\u001b[0m\u001b[0mbar\u001b[0m\u001b[1;33m(\u001b[0m\u001b[0mcityc\u001b[0m\u001b[1;33m,\u001b[0m \u001b[0mcredits\u001b[0m\u001b[1;33m)\u001b[0m\u001b[1;33m\u001b[0m\u001b[1;33m\u001b[0m\u001b[0m\n\u001b[1;32m---> 34\u001b[1;33m \u001b[0mplt\u001b[0m\u001b[1;33m.\u001b[0m\u001b[0mxlabel\u001b[0m\u001b[1;33m(\u001b[0m\u001b[1;34m\"Cities\"\u001b[0m\u001b[1;33m)\u001b[0m\u001b[1;33m\u001b[0m\u001b[1;33m\u001b[0m\u001b[0m\n\u001b[0m\u001b[0;32m     35\u001b[0m \u001b[0mplt\u001b[0m\u001b[1;33m.\u001b[0m\u001b[0mylabel\u001b[0m\u001b[1;33m(\u001b[0m\u001b[1;34m\"Average Credit Score\"\u001b[0m\u001b[1;33m)\u001b[0m\u001b[1;33m\u001b[0m\u001b[1;33m\u001b[0m\u001b[0m\n\u001b[0;32m     36\u001b[0m \u001b[0mplt\u001b[0m\u001b[1;33m.\u001b[0m\u001b[0mtitle\u001b[0m\u001b[1;33m(\u001b[0m\u001b[1;34m\"Average Credit Scores of Cities\"\u001b[0m\u001b[1;33m)\u001b[0m\u001b[1;33m\u001b[0m\u001b[1;33m\u001b[0m\u001b[0m\n",
      "\u001b[1;31mTypeError\u001b[0m: 'str' object is not callable"
     ]
    },
    {
     "data": {
      "image/png": "[encoded data removed]",
      "text/plain": [
       "<Figure size 432x288 with 1 Axes>"
      ]
     },
     "metadata": {
      "needs_background": "light"
     },
     "output_type": "display_data"
    }
   ],
   "source": [
    "#get average credit score for each city then compare the cities in a bar graph\n",
    "Chennai = file.loc[file[\"CustomerCity\"] == \"Chennai\"]\n",
    "chenncred = Chennai[\"CreditScore\"].mean()\n",
    "print(\"The average Credit Score for Chennai is \", chenncred)\n",
    "\n",
    "Delhi = file.loc[file[\"CustomerCity\"] == \"Delhi\"]\n",
    "delhcred = Delhi[\"CreditScore\"].mean()\n",
    "print(\"The average Credit Score for Delhi is \", delhcred)\n",
    "\n",
    "Bengaluru = file.loc[file[\"CustomerCity\"] == \"Bengaluru\"]\n",
    "bengacred = Bengaluru[\"CreditScore\"].mean()\n",
    "print(\"The average Credit Score for Bengaluru is \", bengacred)\n",
    "\n",
    "Kolkata = file.loc[file[\"CustomerCity\"] == \"Kolkata\"]\n",
    "kolcred = Kolkata[\"CreditScore\"].mean()\n",
    "print(\"The average Credit Score for Kolkata is \", kolcred)\n",
    "\n",
    "Mumbai = file.loc[file[\"CustomerCity\"] == \"Mumbai\"]\n",
    "mumbcred = Mumbai[\"CreditScore\"].mean()\n",
    "print(\"The average Credit Score for Mumbai is \", mumbcred)\n",
    "\n",
    "CityCred = {\"Chennai\": [chenncred],\n",
    "             \"Delhi\": [delhcred],\n",
    "              \"Bengaluru\": [bengacred],\n",
    "              \"Kolkata\": [kolcred],\n",
    "              \"Mumbai\": [mumbcred]\n",
    "             }\n",
    "CityCred = pd.DataFrame(CityCred, columns = [\"Chennai\", \"Delhi\", \"Bengaluru\", \"Kolkata\", \"Mumbai\"])\n",
    "CityCred\n",
    "\n",
    "cityc = [\"Chennai\", \"Delhi\", \"Bengaluru\", \"Kolkata\", \"Mumbai\"]\n",
    "credits = [724,719, 703,746, 715]\n",
    "plt.bar(cityc, credits)\n",
    "plt.xlabel(\"Cities\")\n",
    "plt.ylabel(\"Average Credit Score\")\n",
    "plt.title(\"Average Credit Scores of Cities\")\n",
    "plt.show()"
   ]
  },
  {
   "cell_type": "markdown",
   "metadata": {},
   "source": [
    "### Analysis of City vs Spending Score\n",
    "\n",
    "In this space I would like to compare the Spending Score in the respecitve cities in India. This wpuld help us identify which cities in India spend the most, and the cities most likely to spend money."
   ]
  },
  {
   "cell_type": "code",
   "execution_count": 72,
   "metadata": {},
   "outputs": [
    {
     "name": "stdout",
     "output_type": "stream",
     "text": [
      "The average Spending Score for Chennai is  46.022222222222226\n",
      "The average Spending Score for Delhi is  47.13513513513514\n",
      "The average Spending Score for Bengaluru is  49.18\n",
      "The average Spending Score for Kolkata is  60.41379310344828\n",
      "The average Spending Score for Mumbai is  54.23076923076923\n"
     ]
    },
    {
     "ename": "TypeError",
     "evalue": "'str' object is not callable",
     "output_type": "error",
     "traceback": [
      "\u001b[1;31m---------------------------------------------------------------------------\u001b[0m",
      "\u001b[1;31mTypeError\u001b[0m                                 Traceback (most recent call last)",
      "\u001b[1;32m<ipython-input-72-4413014784bf>\u001b[0m in \u001b[0;36m<module>\u001b[1;34m\u001b[0m\n\u001b[0;32m     32\u001b[0m \u001b[0mspending\u001b[0m \u001b[1;33m=\u001b[0m \u001b[1;33m[\u001b[0m\u001b[1;36m46\u001b[0m\u001b[1;33m,\u001b[0m\u001b[1;36m47\u001b[0m\u001b[1;33m,\u001b[0m \u001b[1;36m49\u001b[0m\u001b[1;33m,\u001b[0m\u001b[1;36m60\u001b[0m\u001b[1;33m,\u001b[0m \u001b[1;36m54\u001b[0m\u001b[1;33m]\u001b[0m\u001b[1;33m\u001b[0m\u001b[1;33m\u001b[0m\u001b[0m\n\u001b[0;32m     33\u001b[0m \u001b[0mplt\u001b[0m\u001b[1;33m.\u001b[0m\u001b[0mbar\u001b[0m\u001b[1;33m(\u001b[0m\u001b[0mcitys\u001b[0m\u001b[1;33m,\u001b[0m \u001b[0mspending\u001b[0m\u001b[1;33m)\u001b[0m\u001b[1;33m\u001b[0m\u001b[1;33m\u001b[0m\u001b[0m\n\u001b[1;32m---> 34\u001b[1;33m \u001b[0mplt\u001b[0m\u001b[1;33m.\u001b[0m\u001b[0mxlabel\u001b[0m\u001b[1;33m(\u001b[0m\u001b[1;34m\"Cities\"\u001b[0m\u001b[1;33m)\u001b[0m\u001b[1;33m\u001b[0m\u001b[1;33m\u001b[0m\u001b[0m\n\u001b[0m\u001b[0;32m     35\u001b[0m \u001b[0mplt\u001b[0m\u001b[1;33m.\u001b[0m\u001b[0mylabel\u001b[0m\u001b[1;33m(\u001b[0m\u001b[1;34m\"Average Spending Score\"\u001b[0m\u001b[1;33m)\u001b[0m\u001b[1;33m\u001b[0m\u001b[1;33m\u001b[0m\u001b[0m\n\u001b[0;32m     36\u001b[0m \u001b[0mplt\u001b[0m\u001b[1;33m.\u001b[0m\u001b[0mtitle\u001b[0m\u001b[1;33m(\u001b[0m\u001b[1;34m\"Average Spending Scores of Cities\"\u001b[0m\u001b[1;33m)\u001b[0m\u001b[1;33m\u001b[0m\u001b[1;33m\u001b[0m\u001b[0m\n",
      "\u001b[1;31mTypeError\u001b[0m: 'str' object is not callable"
     ]
    },
    {
     "data": {
      "image/png": "[encoded data removed]",
      "text/plain": [
       "<Figure size 432x288 with 1 Axes>"
      ]
     },
     "metadata": {
      "needs_background": "light"
     },
     "output_type": "display_data"
    }
   ],
   "source": [
    "#get average spending score for each city then compare the cities in a bar graph\n",
    "Chennai = file.loc[file[\"CustomerCity\"] == \"Chennai\"]\n",
    "chennspe = Chennai[\"SpendingScore\"].mean()\n",
    "print(\"The average Spending Score for Chennai is \", chennspe)\n",
    "\n",
    "Delhi = file.loc[file[\"CustomerCity\"] == \"Delhi\"]\n",
    "delhspe = Delhi[\"SpendingScore\"].mean()\n",
    "print(\"The average Spending Score for Delhi is \", delhspe)\n",
    "\n",
    "Bengaluru = file.loc[file[\"CustomerCity\"] == \"Bengaluru\"]\n",
    "bengaspe = Bengaluru[\"SpendingScore\"].mean()\n",
    "print(\"The average Spending Score for Bengaluru is \", bengaspe)\n",
    "\n",
    "Kolkata = file.loc[file[\"CustomerCity\"] == \"Kolkata\"]\n",
    "kolspe = Kolkata[\"SpendingScore\"].mean()\n",
    "print(\"The average Spending Score for Kolkata is \", kolspe)\n",
    "\n",
    "Mumbai = file.loc[file[\"CustomerCity\"] == \"Mumbai\"]\n",
    "mumbspe = Mumbai[\"SpendingScore\"].mean()\n",
    "print(\"The average Spending Score for Mumbai is \", mumbspe)\n",
    "\n",
    "CitySpend = {\"Chennai\": [chennspe],\n",
    "             \"Delhi\": [delhspe],\n",
    "              \"Bengaluru\": [bengaspe],\n",
    "              \"Kolkata\": [kolspe],\n",
    "              \"Mumbai\": [mumbspe]\n",
    "             }\n",
    "CitySpend = pd.DataFrame(CitySpend, columns = [\"Chennai\", \"Delhi\", \"Bengaluru\", \"Kolkata\", \"Mumbai\"])\n",
    "CitySpend\n",
    "\n",
    "citys = [\"Chennai\", \"Delhi\", \"Bengaluru\", \"Kolkata\", \"Mumbai\"]\n",
    "spending = [46,47, 49,60, 54]\n",
    "plt.bar(citys, spending)\n",
    "plt.xlabel(\"Cities\")\n",
    "plt.ylabel(\"Average Spending Score\")\n",
    "plt.title(\"Average Spending Scores of Cities\")\n",
    "plt.show()"
   ]
  },
  {
   "cell_type": "markdown",
   "metadata": {},
   "source": [
    "### Analysis of Annual Income vs Credit Score\n",
    "\n",
    "In this space I would like to compare and understand the relationship between the Annual Income and Credit Score in India across all ages, gender and cities."
   ]
  },
  {
   "cell_type": "code",
   "execution_count": null,
   "metadata": {},
   "outputs": [],
   "source": [
    "#plot a graph of annual income vs credit score\n",
    "incred = file.loc[file[]]"
   ]
  },
  {
   "cell_type": "markdown",
   "metadata": {},
   "source": [
    "### Analysis of Annual Income vs Spending Score\n",
    "\n",
    "In this space I would like to compare and understand relationship between the Annual Income and Spending Score in India across all ages, gender and cities."
   ]
  },
  {
   "cell_type": "code",
   "execution_count": null,
   "metadata": {},
   "outputs": [],
   "source": [
    "#plot a graph of annual income vs spending score"
   ]
  },
  {
   "cell_type": "markdown",
   "metadata": {},
   "source": [
    "### Analysis of Credit Score vs Spending Score\n",
    "\n",
    "In this space I would like to compare and understand the relationship between the Credit Score and Spending Score in India across all ages, gender and cities."
   ]
  },
  {
   "cell_type": "code",
   "execution_count": null,
   "metadata": {},
   "outputs": [],
   "source": [
    "#plot a graph of credit score vs spending score"
   ]
  },
  {
   "cell_type": "markdown",
   "metadata": {},
   "source": [
    "## Conclusion"
   ]
  }
 ],
 "metadata": {
  "kernelspec": {
   "display_name": "Python 3",
   "language": "python",
   "name": "python3"
  },
  "language_info": {
   "codemirror_mode": {
    "name": "ipython",
    "version": 3
   },
   "file_extension": ".py",
   "mimetype": "text/x-python",
   "name": "python",
   "nbconvert_exporter": "python",
   "pygments_lexer": "ipython3",
   "version": "3.9.0"
  }
 },
 "nbformat": 4,
 "nbformat_minor": 4
}
